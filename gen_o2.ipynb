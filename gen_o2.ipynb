{
 "cells": [
  {
   "cell_type": "code",
   "execution_count": 1,
   "metadata": {},
   "outputs": [],
   "source": [
    "import matplotlib.pyplot as plt\n",
    "import numpy as np\n",
    "from bintrees import BinaryTree\n",
    "from tqdm.notebook import tqdm_notebook\n",
    "import pickle\n",
    "\n",
    "from common import VoterData, get_random_dv, get_random_hs, HOUSE_REP_TO_POP\n",
    "from solver import option2_find_f, F_ERROR, MAX_F, MIN_F"
   ]
  },
  {
   "cell_type": "code",
   "execution_count": 8,
   "metadata": {},
   "outputs": [
    {
     "data": {
      "application/vnd.jupyter.widget-view+json": {
       "model_id": "8b5d86d0b4e543ada61ab5c91ead8e1f",
       "version_major": 2,
       "version_minor": 0
      },
      "text/plain": [
       "HBox(children=(IntProgress(value=0, max=1000), HTML(value='')))"
      ]
     },
     "metadata": {},
     "output_type": "display_data"
    },
    {
     "name": "stdout",
     "output_type": "stream",
     "text": [
      "\n"
     ]
    }
   ],
   "source": [
    "np.random.seed(7)\n",
    "ns = 50\n",
    "total = 0\n",
    "\n",
    "# stores upper bound : sample\n",
    "bounds_upper = BinaryTree()\n",
    "\n",
    "# sample 1000 voter datas such that the fairness \n",
    "# must be non-trivial for an oracle response of Dems and Reps\n",
    "pbar = tqdm_notebook(total=1000)\n",
    "while total != 1000:\n",
    "    stop = []\n",
    "    stoh = []\n",
    "    stodv = []\n",
    "    for _ in range(ns):\n",
    "        dv = get_random_dv()\n",
    "        hs = get_random_hs()\n",
    "        stodv.append(dv)\n",
    "        stoh.append(hs)\n",
    "        stop.append(hs * HOUSE_REP_TO_POP)\n",
    "    vd = VoterData(ns, stop, stoh, stodv)\n",
    "    \n",
    "    # both responses should be valid\n",
    "    f1, err1 = option2_find_f(vd, True)\n",
    "    f2, err2 = option2_find_f(vd, False)\n",
    "    if err1 != F_ERROR.none or err2 != F_ERROR.none:\n",
    "        continue\n",
    "    assert ((abs(f1.f_hi - f2.f_lo) < 1e-3) or (abs(f1.f_lo - f2.f_hi) < 1e-3))\n",
    "    \n",
    "    if f1.f_hi not in bounds_upper:\n",
    "        bounds_upper.insert(f1.f_hi, vd)\n",
    "        pbar.update(1)\n",
    "        total += 1\n",
    "    if f2.f_hi not in bounds_upper:\n",
    "        bounds_upper.insert(f2.f_hi, vd)\n",
    "        pbar.update(1)\n",
    "        total += 1\n",
    "\n",
    "pbar.close()"
   ]
  },
  {
   "cell_type": "code",
   "execution_count": 2,
   "metadata": {},
   "outputs": [],
   "source": [
    "def get_pop(vd):\n",
    "    h = np.array(vd.stoh)\n",
    "    return (np.array(vd.stodv) * h).sum() / h.sum()"
   ]
  },
  {
   "cell_type": "code",
   "execution_count": 17,
   "metadata": {},
   "outputs": [
    {
     "data": {
      "text/plain": [
       "0.4998038330282436"
      ]
     },
     "execution_count": 17,
     "metadata": {},
     "output_type": "execute_result"
    }
   ],
   "source": [
    "_, vd = bounds_upper.ceiling_item(1.0)\n",
    "get_pop(vd)"
   ]
  },
  {
   "cell_type": "code",
   "execution_count": 10,
   "metadata": {},
   "outputs": [
    {
     "data": {
      "text/plain": [
       "(array([  1.,   3.,  26., 109., 312., 373., 128.,  37.,   9.,   1.]),\n",
       " array([0.49688072, 0.49749551, 0.4981103 , 0.4987251 , 0.49933989,\n",
       "        0.49995469, 0.50056948, 0.50118428, 0.50179907, 0.50241387,\n",
       "        0.50302866]),\n",
       " <a list of 10 Patch objects>)"
      ]
     },
     "execution_count": 10,
     "metadata": {},
     "output_type": "execute_result"
    },
    {
     "data": {
      "image/png": "[encoded data removed]",
      "text/plain": [
       "<Figure size 432x288 with 1 Axes>"
      ]
     },
     "metadata": {
      "needs_background": "light"
     },
     "output_type": "display_data"
    }
   ],
   "source": [
    "plt.hist(pops)"
   ]
  },
  {
   "cell_type": "code",
   "execution_count": 11,
   "metadata": {},
   "outputs": [],
   "source": [
    "npops = []\n",
    "for t in bounds_upper:\n",
    "    npops.append(get_pop(bounds_upper[t]))"
   ]
  },
  {
   "cell_type": "code",
   "execution_count": 12,
   "metadata": {},
   "outputs": [
    {
     "data": {
      "text/plain": [
       "(array([  1.,   3.,  27., 109., 312., 373., 128.,  37.,   9.,   1.]),\n",
       " array([0.49688072, 0.49749551, 0.4981103 , 0.4987251 , 0.49933989,\n",
       "        0.49995469, 0.50056948, 0.50118428, 0.50179907, 0.50241387,\n",
       "        0.50302866]),\n",
       " <a list of 10 Patch objects>)"
      ]
     },
     "execution_count": 12,
     "metadata": {},
     "output_type": "execute_result"
    },
    {
     "data": {
      "image/png": "[encoded data removed]",
      "text/plain": [
       "<Figure size 432x288 with 1 Axes>"
      ]
     },
     "metadata": {
      "needs_background": "light"
     },
     "output_type": "display_data"
    }
   ],
   "source": [
    "plt.hist(npops)"
   ]
  },
  {
   "cell_type": "code",
   "execution_count": null,
   "metadata": {},
   "outputs": [],
   "source": []
  },
  {
   "cell_type": "code",
   "execution_count": 13,
   "metadata": {},
   "outputs": [],
   "source": [
    "ret = bounds_upper.keys()"
   ]
  },
  {
   "cell_type": "code",
   "execution_count": 14,
   "metadata": {},
   "outputs": [],
   "source": [
    "v = [i for i in ret]"
   ]
  },
  {
   "cell_type": "code",
   "execution_count": 15,
   "metadata": {},
   "outputs": [
    {
     "data": {
      "text/plain": [
       "(array([122., 104., 130., 105., 103.,  73.,  96.,  92.,  95.,  80.]),\n",
       " array([2.43539592e-03, 4.02191856e-01, 8.01948317e-01, 1.20170478e+00,\n",
       "        1.60146124e+00, 2.00121770e+00, 2.40097416e+00, 2.80073062e+00,\n",
       "        3.20048708e+00, 3.60024354e+00, 4.00000000e+00]),\n",
       " <a list of 10 Patch objects>)"
      ]
     },
     "execution_count": 15,
     "metadata": {},
     "output_type": "execute_result"
    },
    {
     "data": {
      "image/png": "[encoded data removed]",
      "text/plain": [
       "<Figure size 432x288 with 1 Axes>"
      ]
     },
     "metadata": {
      "needs_background": "light"
     },
     "output_type": "display_data"
    }
   ],
   "source": [
    "plt.hist(v)"
   ]
  },
  {
   "cell_type": "code",
   "execution_count": 18,
   "metadata": {},
   "outputs": [],
   "source": [
    "f = open('ns=50_rand.pkl', 'wb')\n",
    "pickle.dump(bounds_upper, f)\n",
    "f.close()"
   ]
  },
  {
   "cell_type": "code",
   "execution_count": null,
   "metadata": {},
   "outputs": [],
   "source": []
  }
 ],
 "metadata": {
  "kernelspec": {
   "display_name": "Python 3",
   "language": "python",
   "name": "python3"
  },
  "language_info": {
   "codemirror_mode": {
    "name": "ipython",
    "version": 3
   },
   "file_extension": ".py",
   "mimetype": "text/x-python",
   "name": "python",
   "nbconvert_exporter": "python",
   "pygments_lexer": "ipython3",
   "version": "3.7.3"
  }
 },
 "nbformat": 4,
 "nbformat_minor": 2
}
