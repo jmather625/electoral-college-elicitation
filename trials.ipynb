{
 "cells": [
  {
   "cell_type": "code",
   "execution_count": 1,
   "metadata": {},
   "outputs": [],
   "source": [
    "%load_ext autoreload\n",
    "%autoreload 2"
   ]
  },
  {
   "cell_type": "code",
   "execution_count": 2,
   "metadata": {},
   "outputs": [],
   "source": [
    "import matplotlib.pyplot as plt\n",
    "import numpy as np\n",
    "from bintrees import BinaryTree\n",
    "from tqdm.notebook import tqdm_notebook\n",
    "\n",
    "from common import VoterData, Oracle\n",
    "from solver import F_ERROR, MAX_F, MIN_F, option1_find_f, option2_find_f\n",
    "from elicit import ElectoralElicitation"
   ]
  },
  {
   "cell_type": "code",
   "execution_count": 3,
   "metadata": {},
   "outputs": [],
   "source": [
    "np.random.seed(7)"
   ]
  },
  {
   "cell_type": "code",
   "execution_count": 10,
   "metadata": {},
   "outputs": [
    {
     "name": "stdout",
     "output_type": "stream",
     "text": [
      "\n",
      "VOTER DATA:\n",
      " VoterData(ns=5, stop=[50000000.0, 21000000.0, 5000000.0, 16000000.0, 19000000.0], stoh=[50, 21, 5, 16, 19], stodv=[0.5530853257940523, 0.41383136683162675, 0.48906740879459176, 0.4128081517633241, 0.5413090893368322])\n",
      "Enter True if dems should win, otherwise False:\n",
      "True\n",
      "\n",
      "VOTER DATA:\n",
      " VoterData(ns=5, stop=[2000000.0, 50000000.0, 46000000.0, 50000000.0, 29000000.0], stoh=[2, 50, 46, 50, 29], stodv=[0.47046332851143385, 0.5200027920123391, 0.4605935419848526, 0.5584178308612568, 0.4313800210894756])\n",
      "Enter True if dems should win, otherwise False:\n",
      "True\n",
      "\n",
      "VOTER DATA:\n",
      " VoterData(ns=5, stop=[8000000.0, 15000000.0, 2000000.0, 38000000.0, 46000000.0], stoh=[8, 15, 2, 38, 46], stodv=[0.47698861830939454, 0.3518332826621682, 0.4045687924104201, 0.5723054621888519, 0.4988771997394628])\n",
      "Enter True if dems should win, otherwise False:\n",
      "True\n",
      "\n",
      "VOTER DATA:\n",
      " VoterData(ns=5, stop=[15000000.0, 1000000.0, 42000000.0, 49000000.0, 25000000.0], stoh=[15, 1, 42, 49, 25], stodv=[0.43274148188059575, 0.41564546625279447, 0.5790675134706651, 0.48488315055810643, 0.4419948783560287])\n",
      "Enter True if dems should win, otherwise False:\n",
      "True\n",
      "\n",
      "VOTER DATA:\n",
      " VoterData(ns=5, stop=[12000000.0, 32000000.0, 17000000.0, 1000000.0, 52000000.0], stoh=[12, 32, 17, 1, 52], stodv=[0.5360627123517168, 0.3949076255542371, 0.4916841161800228, 0.3521249498694178, 0.562330053442713])\n",
      "Enter True if dems should win, otherwise False:\n",
      "True\n",
      "\n",
      "VOTER DATA:\n",
      " VoterData(ns=5, stop=[2000000.0, 50000000.0, 41000000.0, 45000000.0, 14000000.0], stoh=[2, 50, 41, 45, 14], stodv=[0.4704747637045945, 0.589924937969642, 0.462325353052671, 0.43325486084827264, 0.5081048573589706])\n",
      "Enter True if dems should win, otherwise False:\n",
      "False\n"
     ]
    }
   ],
   "source": [
    "# interactive\n",
    "ee = ElectoralElicitation(2)\n",
    "while not ee.converged():\n",
    "    vd = ee.generate_trial()\n",
    "    print(\"\\nVOTER DATA:\\n\", vd)\n",
    "    resp = None\n",
    "    while resp not in [\"True\", \"False\", \"T\", \"F\"]:\n",
    "        resp = input(\"Enter True if dems should win, otherwise False:\\n\")\n",
    "    if resp in [\"True\", \"T\"]:\n",
    "        resp = True\n",
    "    else:\n",
    "        resp = False\n",
    "    ee.process_trial(vd, resp)"
   ]
  },
  {
   "cell_type": "code",
   "execution_count": 11,
   "metadata": {},
   "outputs": [
    {
     "data": {
      "text/plain": [
       "0.10107626213967635"
      ]
     },
     "execution_count": 11,
     "metadata": {},
     "output_type": "execute_result"
    }
   ],
   "source": [
    "o1e.predict_f()"
   ]
  },
  {
   "cell_type": "code",
   "execution_count": null,
   "metadata": {},
   "outputs": [],
   "source": []
  },
  {
   "cell_type": "code",
   "execution_count": 8,
   "metadata": {},
   "outputs": [
    {
     "data": {
      "application/vnd.jupyter.widget-view+json": {
       "model_id": "e497a09a4928417b8d38342c132c5678",
       "version_major": 2,
       "version_minor": 0
      },
      "text/plain": [
       "HBox(children=(IntProgress(value=0), HTML(value='')))"
      ]
     },
     "metadata": {},
     "output_type": "display_data"
    },
    {
     "name": "stdout",
     "output_type": "stream",
     "text": [
      "\n"
     ]
    }
   ],
   "source": [
    "np.random.seed(7)\n",
    "ns = 50\n",
    "\n",
    "o_acc = []\n",
    "f_errs = []\n",
    "for i in tqdm_notebook(range(100)):\n",
    "    opt = np.random.randint(1, 3)\n",
    "    f = np.random.uniform(MIN_F, MAX_F)\n",
    "    o = Oracle(option=opt, fairness=f)\n",
    "    \n",
    "    ee = ElectoralElicitation(ns)\n",
    "    while not ee.converged():\n",
    "        vd = ee.generate_trial()\n",
    "        dwins = o.should_dwin(vd)\n",
    "        if ee.process_trial(vd, dwins) != F_ERROR.none:\n",
    "            raise ValueError()\n",
    "    \n",
    "    opt_hat = ee.predict_opt()\n",
    "    f_hat = ee.predict_f()\n",
    "    \n",
    "    o_acc.append(opt_hat == opt)\n",
    "    err = np.abs(f_hat - f)\n",
    "    f_errs.append(err)"
   ]
  },
  {
   "cell_type": "code",
   "execution_count": 7,
   "metadata": {},
   "outputs": [
    {
     "data": {
      "text/plain": [
       "1.0"
      ]
     },
     "execution_count": 7,
     "metadata": {},
     "output_type": "execute_result"
    }
   ],
   "source": [
    "np.mean(o_acc)"
   ]
  },
  {
   "cell_type": "code",
   "execution_count": 6,
   "metadata": {},
   "outputs": [
    {
     "data": {
      "text/plain": [
       "(array([15., 11., 13.,  9.,  8., 11.,  8., 10.,  9.,  6.]),\n",
       " array([0.00040979, 0.00669006, 0.01297034, 0.01925061, 0.02553088,\n",
       "        0.03181115, 0.03809142, 0.04437169, 0.05065196, 0.05693223,\n",
       "        0.0632125 ]),\n",
       " <a list of 10 Patch objects>)"
      ]
     },
     "execution_count": 6,
     "metadata": {},
     "output_type": "execute_result"
    },
    {
     "data": {
      "image/png": "[encoded data removed]",
      "text/plain": [
       "<Figure size 432x288 with 1 Axes>"
      ]
     },
     "metadata": {
      "needs_background": "light"
     },
     "output_type": "display_data"
    }
   ],
   "source": [
    "# should always be < CONVERGE_F / 2\n",
    "plt.hist(f_errs)"
   ]
  },
  {
   "cell_type": "code",
   "execution_count": null,
   "metadata": {},
   "outputs": [],
   "source": []
  }
 ],
 "metadata": {
  "kernelspec": {
   "display_name": "Python 3",
   "language": "python",
   "name": "python3"
  },
  "language_info": {
   "codemirror_mode": {
    "name": "ipython",
    "version": 3
   },
   "file_extension": ".py",
   "mimetype": "text/x-python",
   "name": "python",
   "nbconvert_exporter": "python",
   "pygments_lexer": "ipython3",
   "version": "3.7.3"
  }
 },
 "nbformat": 4,
 "nbformat_minor": 2
}
