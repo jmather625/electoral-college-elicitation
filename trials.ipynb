{
 "cells": [
  {
   "cell_type": "code",
   "execution_count": 2,
   "metadata": {},
   "outputs": [],
   "source": [
    "import matplotlib.pyplot as plt\n",
    "import numpy as np\n",
    "from bintrees import BinaryTree\n",
    "from tqdm.notebook import tqdm_notebook\n",
    "import pickle\n",
    "\n",
    "from common import VoterData, get_random_dv, get_random_hs, HOUSE_REP_TO_POP\n",
    "from solver import option2_find_f, F_ERROR, MAX_F, MIN_F\n",
    "from elicit import Option2Elicit"
   ]
  },
  {
   "cell_type": "code",
   "execution_count": 3,
   "metadata": {},
   "outputs": [],
   "source": [
    "np.random.seed(7)"
   ]
  },
  {
   "cell_type": "code",
   "execution_count": 4,
   "metadata": {},
   "outputs": [
    {
     "data": {
      "application/vnd.jupyter.widget-view+json": {
       "model_id": "14474d0603984dff9eae77f23a6a212d",
       "version_major": 2,
       "version_minor": 0
      },
      "text/plain": [
       "HBox(children=(IntProgress(value=0), HTML(value='')))"
      ]
     },
     "metadata": {},
     "output_type": "display_data"
    },
    {
     "name": "stdout",
     "output_type": "stream",
     "text": [
      "\n"
     ]
    }
   ],
   "source": [
    "ns = 50\n",
    "total = 0\n",
    "\n",
    "# stores upper bound : sample\n",
    "bounds_upper = BinaryTree()\n",
    "\n",
    "pbar = tqdm_notebook(total=100)\n",
    "while total != 1000:\n",
    "    stop = []\n",
    "    stoh = []\n",
    "    stodv = []\n",
    "    for _ in range(ns):\n",
    "        dv = get_random_dv()\n",
    "        hs = get_random_hs()\n",
    "        stodv.append(dv)\n",
    "        stoh.append(hs)\n",
    "        stop.append(hs * HOUSE_REP_TO_POP)\n",
    "    vd = VoterData(ns, stop, stoh, stodv)\n",
    "    vd_id = total\n",
    "    \n",
    "    # both responses should be valid\n",
    "    f1, err1 = option2_find_f(vd, True)\n",
    "    f2, err2 = option2_find_f(vd, False)\n",
    "    if err1 != F_ERROR.none or err2 != F_ERROR.none:\n",
    "        continue\n",
    "    assert ((abs(f1.f_hi - f2.f_lo) < 1e-3) or (abs(f1.f_lo - f2.f_hi) < 1e-3))\n",
    "        \n",
    "    if f1.f_hi not in bounds_upper:\n",
    "        bounds_upper.insert(f1.f_hi, vd)\n",
    "        pbar.update(1)\n",
    "        total += 1\n",
    "\n",
    "pbar.close()"
   ]
  },
  {
   "cell_type": "code",
   "execution_count": null,
   "metadata": {},
   "outputs": [],
   "source": []
  },
  {
   "cell_type": "code",
   "execution_count": 5,
   "metadata": {},
   "outputs": [],
   "source": [
    "ret = bounds_upper.keys()"
   ]
  },
  {
   "cell_type": "code",
   "execution_count": 6,
   "metadata": {},
   "outputs": [],
   "source": [
    "v = [i for i in ret]"
   ]
  },
  {
   "cell_type": "code",
   "execution_count": 7,
   "metadata": {},
   "outputs": [
    {
     "data": {
      "text/plain": [
       "(array([108., 102., 137.,  93., 102.,  80., 100., 112.,  82.,  84.]),\n",
       " array([5.56089318e-04, 4.00500480e-01, 8.00444871e-01, 1.20038926e+00,\n",
       "        1.60033365e+00, 2.00027804e+00, 2.40022244e+00, 2.80016683e+00,\n",
       "        3.20011122e+00, 3.60005561e+00, 4.00000000e+00]),\n",
       " <a list of 10 Patch objects>)"
      ]
     },
     "execution_count": 7,
     "metadata": {},
     "output_type": "execute_result"
    },
    {
     "data": {
      "image/png": "[encoded data removed]",
      "text/plain": [
       "<Figure size 432x288 with 1 Axes>"
      ]
     },
     "metadata": {
      "needs_background": "light"
     },
     "output_type": "display_data"
    }
   ],
   "source": [
    "plt.hist(v)"
   ]
  },
  {
   "cell_type": "code",
   "execution_count": 8,
   "metadata": {},
   "outputs": [],
   "source": [
    "f = open('ns=50_rand.pkl', 'wb')\n",
    "pickle.dump(bounds_upper, f)\n",
    "f.close()"
   ]
  },
  {
   "cell_type": "code",
   "execution_count": null,
   "metadata": {},
   "outputs": [],
   "source": []
  }
 ],
 "metadata": {
  "kernelspec": {
   "display_name": "Python 3",
   "language": "python",
   "name": "python3"
  },
  "language_info": {
   "codemirror_mode": {
    "name": "ipython",
    "version": 3
   },
   "file_extension": ".py",
   "mimetype": "text/x-python",
   "name": "python",
   "nbconvert_exporter": "python",
   "pygments_lexer": "ipython3",
   "version": "3.7.3"
  }
 },
 "nbformat": 4,
 "nbformat_minor": 2
}
